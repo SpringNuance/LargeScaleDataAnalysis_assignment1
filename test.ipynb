{
 "cells": [
  {
   "cell_type": "code",
   "execution_count": 1,
   "metadata": {},
   "outputs": [
    {
     "name": "stdout",
     "output_type": "stream",
     "text": [
      "[5 4 3 2 1]\n",
      "[5 4 3]\n",
      "[4 3 2]\n",
      "[3 2 1]\n",
      "[1.28922423 1.40942084 1.70951129]\n",
      "{'divide': 'warn', 'over': 'warn', 'under': 'ignore', 'invalid': 'warn'}\n",
      "[ 1 -1  3  4  5]\n"
     ]
    }
   ],
   "source": [
    "import numpy as np\n",
    "differenceNorms = np.array([16,11,7,4,2,1])\n",
    "errors = np.abs(np.diff(differenceNorms))\n",
    "print(errors)\n",
    "errors_nminus1 = errors[:-2]\n",
    "print(errors_nminus1)\n",
    "errors_n = errors[:-1]\n",
    "errors_n = errors_n[1:]\n",
    "print(errors_n)\n",
    "errors_nplus1 = errors[2:]\n",
    "print(errors_nplus1)\n",
    "\n",
    "rateOfConvergences = np.divide(np.log(np.abs(np.divide(errors_nplus1, errors_n))), np.log(np.abs(np.divide(errors_n, errors_nminus1))))\n",
    "\n",
    "print(rateOfConvergences)\n",
    "\n",
    "\n",
    "print(np.seterr())\n",
    "\n",
    "array = np.array([1,2,3,4,5])\n",
    "array[1] = -1\n",
    "print(array)"
   ]
  },
  {
   "cell_type": "code",
   "execution_count": null,
   "metadata": {},
   "outputs": [
    {
     "name": "stdout",
     "output_type": "stream",
     "text": [
      "The matrix A is\n",
      "[[17 -5  9]\n",
      " [-5 18 -5]\n",
      " [ 9 -5 18]]\n",
      "Is the matrix A positive semidefinite?: True\n",
      "\n",
      "The inverse of matrix A is\n",
      "[[ 0.08248276  0.01241379 -0.0377931 ]\n",
      " [ 0.01241379  0.06206897  0.01103448]\n",
      " [-0.0377931   0.01103448  0.07751724]]\n",
      "\n",
      "The optimal solution x* is\n",
      "[1 2 3]\n",
      "\n",
      "The vector b is\n",
      "[34 16 53]\n",
      "\n",
      "Ax* should be equal to b\n",
      "[34 16 53]\n",
      "\n",
      "A^-1b should be equal to x*\n",
      "[1. 2. 3.]\n"
     ]
    }
   ],
   "source": [
    "A = np.array([[17, -5, 9],\n",
    "              [-5, 18, -5],\n",
    "              [9, -5, 18]])\n",
    "\n",
    "print(\"The matrix A is\")\n",
    "print(A)\n",
    "\n",
    "print(f\"Is the matrix A positive semidefinite?: {isPositiveSemidefinite(A)}\")\n",
    "\n",
    "invA = inverse(A)\n",
    "print(\"\\nThe inverse of matrix A is\")\n",
    "print(invA)\n",
    "\n",
    "# invA = np.array([[ 0.0824827, 0.01241379, -0.0377931],\n",
    "#                  [ 0.0124137, 0.06206897, 0.01103448],\n",
    "#                  [-0.0377931, 0.01103448, 0.07751724]])\n",
    "\n",
    "# The optimal solution\n",
    "x_opt = np.array([1,2,3])  \n",
    "print(\"\\nThe optimal solution x* is\")\n",
    "print(x_opt)\n",
    "\n",
    "# b is in the range of A\n",
    "# In other words, b is a linear combination of the columns of matrix A\n",
    "# b = A.dot(x_opt)\n",
    "b = np.array([34,16,53]) \n",
    "print(\"\\nThe vector b is\")\n",
    "print(b)\n",
    "\n",
    "# So we have the identities:\n",
    "# Ax* = b or Ax - b = 0\n",
    "# A^-1b = x*\n",
    "\n",
    "print(\"\\nAx* should be equal to b\") \n",
    "print(A.dot(x_opt))\n",
    "\n",
    "print(\"\\nA^-1b should be equal to x*\") \n",
    "print(invA.dot(b))"
   ]
  }
 ],
 "metadata": {
  "kernelspec": {
   "display_name": "Python 3",
   "language": "python",
   "name": "python3"
  },
  "language_info": {
   "codemirror_mode": {
    "name": "ipython",
    "version": 3
   },
   "file_extension": ".py",
   "mimetype": "text/x-python",
   "name": "python",
   "nbconvert_exporter": "python",
   "pygments_lexer": "ipython3",
   "version": "3.10.5"
  },
  "orig_nbformat": 4,
  "vscode": {
   "interpreter": {
    "hash": "3bc1a11519d29b3ed6f08646f3ece60640217e649724c6bcfd38e1173c1a1bce"
   }
  }
 },
 "nbformat": 4,
 "nbformat_minor": 2
}
